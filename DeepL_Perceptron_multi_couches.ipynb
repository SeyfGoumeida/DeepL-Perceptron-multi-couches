{
  "nbformat": 4,
  "nbformat_minor": 0,
  "metadata": {
    "colab": {
      "name": "DeepL Perceptron multi-couches.ipynb",
      "provenance": [],
      "collapsed_sections": [],
      "authorship_tag": "ABX9TyMkKtOt/C5Lbq6Ku3GNpG5u",
      "include_colab_link": true
    },
    "kernelspec": {
      "name": "python3",
      "display_name": "Python 3"
    },
    "language_info": {
      "name": "python"
    }
  },
  "cells": [
    {
      "cell_type": "markdown",
      "metadata": {
        "id": "view-in-github",
        "colab_type": "text"
      },
      "source": [
        "<a href=\"https://colab.research.google.com/github/SeyfGoumeida/DeepL-Perceptron-multi-couches/blob/main/DeepL_Perceptron_multi_couches.ipynb\" target=\"_parent\"><img src=\"https://colab.research.google.com/assets/colab-badge.svg\" alt=\"Open In Colab\"/></a>"
      ]
    },
    {
      "cell_type": "code",
      "metadata": {
        "colab": {
          "base_uri": "https://localhost:8080/"
        },
        "id": "NinRBgAJYSQ8",
        "outputId": "3b8490e6-f5a1-4c91-d8de-769b3c73c404"
      },
      "source": [
        "import tensorflow as tf\n",
        "mnist = tf.keras.datasets.mnist\n",
        "(x_train , y_train), (x_test , y_test) = mnist.load_data()\n",
        "#normalisation des données pour avoir des valeur entre 0 et 1 car chaque pixel est codé entre 0 et 255\n",
        "x_train, x_test = x_train / 255, x_test / 255\n",
        "model = tf.keras.Sequential([\n",
        "tf.keras.layers.Flatten(),\n",
        "tf.keras.layers.Dense(512, activation='relu'),\n",
        "tf.keras.layers.Dropout(0.2),\n",
        "tf.keras.layers.LayerNormalization(),\n",
        "tf.keras.layers.Dense (512, activation='relu'),\n",
        "tf.keras.layers.Dropout(0.2),\n",
        "tf.keras.layers.LayerNormalization(),\n",
        "tf.keras.layers.Dense(10, activation=\"softmax\")\n",
        "])\n",
        "model.compile(optimizer='adam', loss='sparse_categorical_crossentropy', metrics=['accuracy'])\n",
        "model.fit(x_train, y_train, epochs=5)\n",
        "model.evaluate(x_test, y_test)"
      ],
      "execution_count": 21,
      "outputs": [
        {
          "output_type": "stream",
          "name": "stdout",
          "text": [
            "Epoch 1/5\n",
            "1875/1875 [==============================] - 21s 10ms/step - loss: 0.2298 - accuracy: 0.9300\n",
            "Epoch 2/5\n",
            "1875/1875 [==============================] - 20s 10ms/step - loss: 0.1149 - accuracy: 0.9650\n",
            "Epoch 3/5\n",
            "1875/1875 [==============================] - 19s 10ms/step - loss: 0.0852 - accuracy: 0.9733\n",
            "Epoch 4/5\n",
            "1875/1875 [==============================] - 20s 11ms/step - loss: 0.0728 - accuracy: 0.9768\n",
            "Epoch 5/5\n",
            "1875/1875 [==============================] - 20s 11ms/step - loss: 0.0581 - accuracy: 0.9814\n",
            "313/313 [==============================] - 2s 4ms/step - loss: 0.0692 - accuracy: 0.9812\n"
          ]
        },
        {
          "output_type": "execute_result",
          "data": {
            "text/plain": [
              "[0.0692126676440239, 0.9811999797821045]"
            ]
          },
          "metadata": {},
          "execution_count": 21
        }
      ]
    }
  ]
}