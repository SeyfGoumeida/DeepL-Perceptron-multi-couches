{
  "nbformat": 4,
  "nbformat_minor": 0,
  "metadata": {
    "colab": {
      "name": "DeepL Perceptron multi-couches.ipynb",
      "provenance": [],
      "collapsed_sections": [],
      "authorship_tag": "ABX9TyOboqgB/Mq2v7+VW8I1JZcF",
      "include_colab_link": true
    },
    "kernelspec": {
      "name": "python3",
      "display_name": "Python 3"
    },
    "language_info": {
      "name": "python"
    }
  },
  "cells": [
    {
      "cell_type": "markdown",
      "metadata": {
        "id": "view-in-github",
        "colab_type": "text"
      },
      "source": [
        "<a href=\"https://colab.research.google.com/github/SeyfGoumeida/DeepL-Perceptron-multi-couches/blob/main/DeepL_Perceptron_multi_couches.ipynb\" target=\"_parent\"><img src=\"https://colab.research.google.com/assets/colab-badge.svg\" alt=\"Open In Colab\"/></a>"
      ]
    },
    {
      "cell_type": "code",
      "metadata": {
        "colab": {
          "base_uri": "https://localhost:8080/",
          "height": 129
        },
        "id": "NinRBgAJYSQ8",
        "outputId": "11e03243-3d49-45f3-d01f-3d76efc04013"
      },
      "source": [
        "import tensorflow as tf\n",
        "mnist = tf.keras.datasets.mnist\n",
        "(x _train , y_train), (x_test , y_test) = mnist.load_data()\n",
        "#normalisation des données pour avoir des valeur entre 0 et 1 car chaque pixel est codé entre 0 et 255\n",
        "x_train, x _test = x train / 255, x test / 255\n",
        "model = tf.keras.Sequential([\n",
        "tf.keras.layers.Flatten(),\n",
        "tf.keras.layers.Dense(512, activation='relu'),\n",
        "tf.keras.layers.Dropout(0.2),\n",
        "tf.keras.layers.LayerNormalization(),\n",
        "tf.keras.layers.Dense (512, activation='relu'),\n",
        "tf.keras.layers.Dropout(0.2),\n",
        "tf.keras.layers.LayerNormalization(),\n",
        "tf.keras.layers.Dense(10, activation='softmax\").\n",
        "])\n",
        "model.compile(optimizer='adam', loss=' sparse categorical crossentropy', metrics=L'accuracy'])\n",
        "model. fit(x_train, y_train, epochs=5)\n",
        "model.evaluate(x_test, y_test)"
      ],
      "execution_count": 9,
      "outputs": [
        {
          "output_type": "error",
          "ename": "SyntaxError",
          "evalue": "ignored",
          "traceback": [
            "\u001b[0;36m  File \u001b[0;32m\"<ipython-input-9-f982d7cda87f>\"\u001b[0;36m, line \u001b[0;32m3\u001b[0m\n\u001b[0;31m    (x _train , y_train), (x_test , y_test) = mnist.load_data()\u001b[0m\n\u001b[0m            ^\u001b[0m\n\u001b[0;31mSyntaxError\u001b[0m\u001b[0;31m:\u001b[0m invalid syntax\n"
          ]
        }
      ]
    }
  ]
}